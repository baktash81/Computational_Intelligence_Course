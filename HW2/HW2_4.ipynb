{
  "cells": [
    {
      "cell_type": "markdown",
      "metadata": {
        "id": "mqg4KSj_8Nz1"
      },
      "source": [
        "# In this notebook, we run an MLP model on dataset hoda and examine the results in terms of underfitting, fitting and overfitting."
      ]
    },
    {
      "cell_type": "markdown",
      "metadata": {
        "id": "IVk_5eoO76sj"
      },
      "source": [
        "## Download dataset"
      ]
    },
    {
      "cell_type": "code",
      "execution_count": 1,
      "metadata": {
        "colab": {
          "base_uri": "https://localhost:8080/"
        },
        "id": "TjoQGt01Ujx1",
        "outputId": "74a8ae01-9dbf-4b5e-a857-dea93821f0c8"
      },
      "outputs": [
        {
          "output_type": "stream",
          "name": "stdout",
          "text": [
            "Downloading...\n",
            "From: https://drive.google.com/uc?id=1QJrQsEYOfPBn1LoIeYMZ2HFBRC0AY-6F\n",
            "To: /content/dataset.py\n",
            "100% 909/909 [00:00<00:00, 2.95MB/s]\n",
            "Downloading...\n",
            "From: https://drive.google.com/uc?id=1zStcaVl_34RrYIfVObuM4xzB6s8xwvBi\n",
            "To: /content/Data_hoda_full.mat\n",
            "100% 3.99M/3.99M [00:00<00:00, 53.6MB/s]\n"
          ]
        }
      ],
      "source": [
        "!gdown --fuzzy https://drive.google.com/file/d/1QJrQsEYOfPBn1LoIeYMZ2HFBRC0AY-6F/view?usp=sharing\n",
        "!gdown --fuzzy https://drive.google.com/file/d/1zStcaVl_34RrYIfVObuM4xzB6s8xwvBi/view?usp=sharing"
      ]
    },
    {
      "cell_type": "markdown",
      "metadata": {
        "id": "ruebTHNSBqRD"
      },
      "source": [
        "## Importing libraries"
      ]
    },
    {
      "cell_type": "code",
      "execution_count": 29,
      "metadata": {
        "id": "WhoXKRptiRDe"
      },
      "outputs": [],
      "source": [
        "import keras\n",
        "import numpy as np\n",
        "import matplotlib.pyplot as plt\n",
        "\n",
        "from keras.models import Sequential\n",
        "from keras.layers import Dense,  Activation\n",
        "from dataset import load_hoda"
      ]
    },
    {
      "cell_type": "markdown",
      "metadata": {
        "id": "ku75DKlg_f9y"
      },
      "source": [
        "# Load dataset"
      ]
    },
    {
      "cell_type": "code",
      "execution_count": 13,
      "metadata": {
        "id": "4D7VhBCKiVWl"
      },
      "outputs": [],
      "source": [
        "x_train_original, y_train_original, x_test_original, y_test_original = load_hoda()"
      ]
    },
    {
      "cell_type": "markdown",
      "metadata": {
        "id": "Wruhn4AmB5zC"
      },
      "source": [
        "### Converting x_train and x_test to ndarray array format and converting y_train and y_test to one-hot-encoding:\n",
        "####First, we have defined a simple function that prints the dimensions, data type and information of the loaded dataset. We will print this information before and after data preprocessing to notice the changes!"
      ]
    },
    {
      "cell_type": "code",
      "execution_count": 11,
      "metadata": {
        "id": "nbSZTm93iVb9",
        "colab": {
          "base_uri": "https://localhost:8080/"
        },
        "outputId": "4cbd4e26-540f-4559-b700-61080d50b42e"
      },
      "outputs": [
        {
          "output_type": "execute_result",
          "data": {
            "text/plain": [
              "array([[0., 0., 0., ..., 0., 0., 0.],\n",
              "       [0., 0., 0., ..., 0., 0., 0.],\n",
              "       [1., 0., 0., ..., 0., 0., 0.],\n",
              "       ...,\n",
              "       [0., 0., 0., ..., 0., 0., 0.],\n",
              "       [0., 0., 0., ..., 0., 0., 1.],\n",
              "       [0., 1., 0., ..., 0., 0., 0.]], dtype=float32)"
            ]
          },
          "metadata": {},
          "execution_count": 11
        }
      ],
      "source": [
        "# Preprocess input data for Keras.\n",
        "x_train = np.array(x_train_original)\n",
        "y_train = keras.utils.to_categorical(y_train_original, num_classes=10)\n",
        "x_test = np.array(x_test_original)\n",
        "y_test = keras.utils.to_categorical(y_test_original, num_classes=10)\n",
        "y_train"
      ]
    },
    {
      "cell_type": "code",
      "execution_count": 15,
      "metadata": {
        "id": "u5Gvz63iiVZV"
      },
      "outputs": [],
      "source": [
        "def print_data_info(x_train, y_train, x_test, y_test):\n",
        "    #Check data Type\n",
        "    print (\"\\ttype(x_train): {}\".format(type(x_train)))\n",
        "    print (\"\\ttype(y_train): {}\".format(type(y_train)))\n",
        "\n",
        "    #check data Shape\n",
        "    print (\"\\tx_train.shape: {}\".format(np.shape(x_train)))\n",
        "    print (\"\\ty_train.shape: {}\".format(np.shape(y_train)))\n",
        "    print (\"\\tx_test.shape: {}\".format(np.shape(x_test)))\n",
        "    print (\"\\ty_test.shape: {}\".format(np.shape(y_test)))\n",
        "\n",
        "    #sample data\n",
        "    print (\"\\ty_train[0]: {}\".format(y_train[0]))"
      ]
    },
    {
      "cell_type": "code",
      "execution_count": 16,
      "metadata": {
        "colab": {
          "base_uri": "https://localhost:8080/"
        },
        "id": "0C5eJsmeiVe2",
        "outputId": "1e138377-6a8f-48d3-b3ee-9ed974cb4b74"
      },
      "outputs": [
        {
          "output_type": "stream",
          "name": "stdout",
          "text": [
            "Before Preprocessing:\n",
            "\ttype(x_train): <class 'numpy.ndarray'>\n",
            "\ttype(y_train): <class 'numpy.ndarray'>\n",
            "\tx_train.shape: (1000, 25)\n",
            "\ty_train.shape: (1000,)\n",
            "\tx_test.shape: (200, 25)\n",
            "\ty_test.shape: (200,)\n",
            "\ty_train[0]: 6\n",
            "After Preprocessing:\n",
            "\ttype(x_train): <class 'numpy.ndarray'>\n",
            "\ttype(y_train): <class 'numpy.ndarray'>\n",
            "\tx_train.shape: (1000, 25)\n",
            "\ty_train.shape: (1000, 10)\n",
            "\tx_test.shape: (200, 25)\n",
            "\ty_test.shape: (200, 10)\n",
            "\ty_train[0]: [0. 0. 0. 0. 0. 0. 1. 0. 0. 0.]\n"
          ]
        }
      ],
      "source": [
        "print(\"Before Preprocessing:\")\n",
        "print_data_info(x_train_original, y_train_original, x_test_original, y_test_original)\n",
        "print(\"After Preprocessing:\")\n",
        "print_data_info(x_train, y_train, x_test, y_test)"
      ]
    },
    {
      "cell_type": "code",
      "execution_count": 17,
      "metadata": {
        "id": "ignnQ8cqidv_"
      },
      "outputs": [],
      "source": [
        "x_train = x_train.astype('float32')\n",
        "x_test = x_test.astype('float32')\n",
        "x_train /= 255\n",
        "x_test /= 255"
      ]
    },
    {
      "cell_type": "code",
      "execution_count": 42,
      "metadata": {
        "id": "cEQisVlqidyt"
      },
      "outputs": [],
      "source": [
        "# In this Create the model, input dim=25 and output dim = 10\n",
        "\n",
        "##################################\n",
        "# you code here\n",
        "##################################\n",
        "model = Sequential([\n",
        "    Dense(25, input_dim=25, activation='relu'),  # Input layer with 25 units and ReLU activation\n",
        "    Dense(15, activation='relu'),  # Hidden layer with 15 units and ReLU activation\n",
        "    Dense(10, activation='softmax')  # Output layer with 10 units (for 10 classes) and softmax activation\n",
        "])"
      ]
    },
    {
      "cell_type": "code",
      "execution_count": 43,
      "metadata": {
        "id": "gk4rIwjbid3W",
        "colab": {
          "base_uri": "https://localhost:8080/"
        },
        "outputId": "8608511a-4a29-44c0-d2b5-64fabf54f044"
      },
      "outputs": [
        {
          "output_type": "stream",
          "name": "stdout",
          "text": [
            "Model: \"sequential_5\"\n",
            "_________________________________________________________________\n",
            " Layer (type)                Output Shape              Param #   \n",
            "=================================================================\n",
            " dense_13 (Dense)            (None, 25)                650       \n",
            "                                                                 \n",
            " dense_14 (Dense)            (None, 15)                390       \n",
            "                                                                 \n",
            " dense_15 (Dense)            (None, 10)                160       \n",
            "                                                                 \n",
            "=================================================================\n",
            "Total params: 1200 (4.69 KB)\n",
            "Trainable params: 1200 (4.69 KB)\n",
            "Non-trainable params: 0 (0.00 Byte)\n",
            "_________________________________________________________________\n"
          ]
        }
      ],
      "source": [
        "model.summary()"
      ]
    },
    {
      "cell_type": "markdown",
      "metadata": {
        "id": "XVBSerPdCxnL"
      },
      "source": [
        "## Compile model"
      ]
    },
    {
      "cell_type": "code",
      "execution_count": 44,
      "metadata": {
        "id": "ZJVfanv2id52"
      },
      "outputs": [],
      "source": [
        "# In this cell compile mode, set loss function and optimizer and get metrics accuracy\n",
        "\n",
        "##################################\n",
        "# you code here\n",
        "##################################\n",
        "model.compile(optimizer='adam', loss='categorical_crossentropy', metrics=['accuracy'])"
      ]
    },
    {
      "cell_type": "markdown",
      "metadata": {
        "id": "Uz92ZcWOJFFU"
      },
      "source": [
        "## Fit model"
      ]
    },
    {
      "cell_type": "code",
      "execution_count": 45,
      "metadata": {
        "id": "ZaKtROcxinbV",
        "colab": {
          "base_uri": "https://localhost:8080/"
        },
        "outputId": "7151297b-041f-4388-876d-e149a4a4b306"
      },
      "outputs": [
        {
          "output_type": "stream",
          "name": "stdout",
          "text": [
            "Epoch 1/100\n",
            "16/16 [==============================] - 1s 17ms/step - loss: 2.2765 - accuracy: 0.1100 - val_loss: 2.2528 - val_accuracy: 0.1400\n",
            "Epoch 2/100\n",
            "16/16 [==============================] - 0s 6ms/step - loss: 2.2035 - accuracy: 0.1740 - val_loss: 2.1936 - val_accuracy: 0.1950\n",
            "Epoch 3/100\n",
            "16/16 [==============================] - 0s 5ms/step - loss: 2.1391 - accuracy: 0.2850 - val_loss: 2.1298 - val_accuracy: 0.2800\n",
            "Epoch 4/100\n",
            "16/16 [==============================] - 0s 6ms/step - loss: 2.0666 - accuracy: 0.3520 - val_loss: 2.0582 - val_accuracy: 0.3500\n",
            "Epoch 5/100\n",
            "16/16 [==============================] - 0s 6ms/step - loss: 1.9800 - accuracy: 0.3910 - val_loss: 1.9650 - val_accuracy: 0.3950\n",
            "Epoch 6/100\n",
            "16/16 [==============================] - 0s 6ms/step - loss: 1.8723 - accuracy: 0.4630 - val_loss: 1.8467 - val_accuracy: 0.4600\n",
            "Epoch 7/100\n",
            "16/16 [==============================] - 0s 6ms/step - loss: 1.7389 - accuracy: 0.5390 - val_loss: 1.6970 - val_accuracy: 0.5450\n",
            "Epoch 8/100\n",
            "16/16 [==============================] - 0s 6ms/step - loss: 1.5916 - accuracy: 0.5940 - val_loss: 1.5482 - val_accuracy: 0.6050\n",
            "Epoch 9/100\n",
            "16/16 [==============================] - 0s 5ms/step - loss: 1.4401 - accuracy: 0.6410 - val_loss: 1.3927 - val_accuracy: 0.6600\n",
            "Epoch 10/100\n",
            "16/16 [==============================] - 0s 5ms/step - loss: 1.2894 - accuracy: 0.6660 - val_loss: 1.2412 - val_accuracy: 0.6850\n",
            "Epoch 11/100\n",
            "16/16 [==============================] - 0s 6ms/step - loss: 1.1465 - accuracy: 0.6910 - val_loss: 1.0948 - val_accuracy: 0.7200\n",
            "Epoch 12/100\n",
            "16/16 [==============================] - 0s 7ms/step - loss: 1.0185 - accuracy: 0.7370 - val_loss: 0.9653 - val_accuracy: 0.7700\n",
            "Epoch 13/100\n",
            "16/16 [==============================] - 0s 5ms/step - loss: 0.9108 - accuracy: 0.7910 - val_loss: 0.8620 - val_accuracy: 0.7900\n",
            "Epoch 14/100\n",
            "16/16 [==============================] - 0s 6ms/step - loss: 0.8197 - accuracy: 0.8010 - val_loss: 0.7764 - val_accuracy: 0.8100\n",
            "Epoch 15/100\n",
            "16/16 [==============================] - 0s 6ms/step - loss: 0.7466 - accuracy: 0.8140 - val_loss: 0.7057 - val_accuracy: 0.8100\n",
            "Epoch 16/100\n",
            "16/16 [==============================] - 0s 7ms/step - loss: 0.6875 - accuracy: 0.8300 - val_loss: 0.6492 - val_accuracy: 0.8350\n",
            "Epoch 17/100\n",
            "16/16 [==============================] - 0s 5ms/step - loss: 0.6354 - accuracy: 0.8320 - val_loss: 0.6057 - val_accuracy: 0.8400\n",
            "Epoch 18/100\n",
            "16/16 [==============================] - 0s 5ms/step - loss: 0.5944 - accuracy: 0.8410 - val_loss: 0.5671 - val_accuracy: 0.8450\n",
            "Epoch 19/100\n",
            "16/16 [==============================] - 0s 5ms/step - loss: 0.5609 - accuracy: 0.8510 - val_loss: 0.5357 - val_accuracy: 0.8500\n",
            "Epoch 20/100\n",
            "16/16 [==============================] - 0s 6ms/step - loss: 0.5306 - accuracy: 0.8590 - val_loss: 0.5089 - val_accuracy: 0.8400\n",
            "Epoch 21/100\n",
            "16/16 [==============================] - 0s 6ms/step - loss: 0.5060 - accuracy: 0.8600 - val_loss: 0.4873 - val_accuracy: 0.8450\n",
            "Epoch 22/100\n",
            "16/16 [==============================] - 0s 7ms/step - loss: 0.4818 - accuracy: 0.8670 - val_loss: 0.4654 - val_accuracy: 0.8600\n",
            "Epoch 23/100\n",
            "16/16 [==============================] - 0s 6ms/step - loss: 0.4634 - accuracy: 0.8700 - val_loss: 0.4480 - val_accuracy: 0.8650\n",
            "Epoch 24/100\n",
            "16/16 [==============================] - 0s 6ms/step - loss: 0.4477 - accuracy: 0.8700 - val_loss: 0.4325 - val_accuracy: 0.8700\n",
            "Epoch 25/100\n",
            "16/16 [==============================] - 0s 6ms/step - loss: 0.4306 - accuracy: 0.8750 - val_loss: 0.4178 - val_accuracy: 0.8750\n",
            "Epoch 26/100\n",
            "16/16 [==============================] - 0s 6ms/step - loss: 0.4171 - accuracy: 0.8730 - val_loss: 0.4074 - val_accuracy: 0.8850\n",
            "Epoch 27/100\n",
            "16/16 [==============================] - 0s 6ms/step - loss: 0.4032 - accuracy: 0.8780 - val_loss: 0.3950 - val_accuracy: 0.8900\n",
            "Epoch 28/100\n",
            "16/16 [==============================] - 0s 8ms/step - loss: 0.3906 - accuracy: 0.8790 - val_loss: 0.3844 - val_accuracy: 0.8950\n",
            "Epoch 29/100\n",
            "16/16 [==============================] - 0s 7ms/step - loss: 0.3808 - accuracy: 0.8770 - val_loss: 0.3746 - val_accuracy: 0.8950\n",
            "Epoch 30/100\n",
            "16/16 [==============================] - 0s 6ms/step - loss: 0.3701 - accuracy: 0.8790 - val_loss: 0.3673 - val_accuracy: 0.9000\n",
            "Epoch 31/100\n",
            "16/16 [==============================] - 0s 6ms/step - loss: 0.3621 - accuracy: 0.8830 - val_loss: 0.3579 - val_accuracy: 0.9050\n",
            "Epoch 32/100\n",
            "16/16 [==============================] - 0s 5ms/step - loss: 0.3512 - accuracy: 0.8850 - val_loss: 0.3516 - val_accuracy: 0.9000\n",
            "Epoch 33/100\n",
            "16/16 [==============================] - 0s 6ms/step - loss: 0.3433 - accuracy: 0.8860 - val_loss: 0.3485 - val_accuracy: 0.9000\n",
            "Epoch 34/100\n",
            "16/16 [==============================] - 0s 7ms/step - loss: 0.3356 - accuracy: 0.8820 - val_loss: 0.3409 - val_accuracy: 0.9050\n",
            "Epoch 35/100\n",
            "16/16 [==============================] - 0s 6ms/step - loss: 0.3276 - accuracy: 0.8960 - val_loss: 0.3370 - val_accuracy: 0.9000\n",
            "Epoch 36/100\n",
            "16/16 [==============================] - 0s 6ms/step - loss: 0.3210 - accuracy: 0.8960 - val_loss: 0.3336 - val_accuracy: 0.9050\n",
            "Epoch 37/100\n",
            "16/16 [==============================] - 0s 5ms/step - loss: 0.3138 - accuracy: 0.8980 - val_loss: 0.3282 - val_accuracy: 0.9150\n",
            "Epoch 38/100\n",
            "16/16 [==============================] - 0s 5ms/step - loss: 0.3080 - accuracy: 0.9040 - val_loss: 0.3257 - val_accuracy: 0.9050\n",
            "Epoch 39/100\n",
            "16/16 [==============================] - 0s 6ms/step - loss: 0.3023 - accuracy: 0.9080 - val_loss: 0.3196 - val_accuracy: 0.9200\n",
            "Epoch 40/100\n",
            "16/16 [==============================] - 0s 7ms/step - loss: 0.2964 - accuracy: 0.9080 - val_loss: 0.3221 - val_accuracy: 0.8950\n",
            "Epoch 41/100\n",
            "16/16 [==============================] - 0s 6ms/step - loss: 0.2916 - accuracy: 0.9090 - val_loss: 0.3148 - val_accuracy: 0.9150\n",
            "Epoch 42/100\n",
            "16/16 [==============================] - 0s 6ms/step - loss: 0.2872 - accuracy: 0.9130 - val_loss: 0.3154 - val_accuracy: 0.9050\n",
            "Epoch 43/100\n",
            "16/16 [==============================] - 0s 6ms/step - loss: 0.2822 - accuracy: 0.9130 - val_loss: 0.3106 - val_accuracy: 0.9050\n",
            "Epoch 44/100\n",
            "16/16 [==============================] - 0s 7ms/step - loss: 0.2768 - accuracy: 0.9150 - val_loss: 0.3107 - val_accuracy: 0.9150\n",
            "Epoch 45/100\n",
            "16/16 [==============================] - 0s 5ms/step - loss: 0.2741 - accuracy: 0.9130 - val_loss: 0.3075 - val_accuracy: 0.9050\n",
            "Epoch 46/100\n",
            "16/16 [==============================] - 0s 6ms/step - loss: 0.2687 - accuracy: 0.9180 - val_loss: 0.3026 - val_accuracy: 0.9100\n",
            "Epoch 47/100\n",
            "16/16 [==============================] - 0s 6ms/step - loss: 0.2653 - accuracy: 0.9170 - val_loss: 0.3022 - val_accuracy: 0.9150\n",
            "Epoch 48/100\n",
            "16/16 [==============================] - 0s 5ms/step - loss: 0.2613 - accuracy: 0.9210 - val_loss: 0.2998 - val_accuracy: 0.9050\n",
            "Epoch 49/100\n",
            "16/16 [==============================] - 0s 6ms/step - loss: 0.2571 - accuracy: 0.9160 - val_loss: 0.2987 - val_accuracy: 0.9050\n",
            "Epoch 50/100\n",
            "16/16 [==============================] - 0s 6ms/step - loss: 0.2558 - accuracy: 0.9210 - val_loss: 0.2952 - val_accuracy: 0.9200\n",
            "Epoch 51/100\n",
            "16/16 [==============================] - 0s 6ms/step - loss: 0.2492 - accuracy: 0.9230 - val_loss: 0.2939 - val_accuracy: 0.9150\n",
            "Epoch 52/100\n",
            "16/16 [==============================] - 0s 6ms/step - loss: 0.2462 - accuracy: 0.9200 - val_loss: 0.2936 - val_accuracy: 0.9150\n",
            "Epoch 53/100\n",
            "16/16 [==============================] - 0s 6ms/step - loss: 0.2433 - accuracy: 0.9260 - val_loss: 0.2901 - val_accuracy: 0.9100\n",
            "Epoch 54/100\n",
            "16/16 [==============================] - 0s 7ms/step - loss: 0.2399 - accuracy: 0.9240 - val_loss: 0.2891 - val_accuracy: 0.9200\n",
            "Epoch 55/100\n",
            "16/16 [==============================] - 0s 6ms/step - loss: 0.2358 - accuracy: 0.9300 - val_loss: 0.2881 - val_accuracy: 0.9200\n",
            "Epoch 56/100\n",
            "16/16 [==============================] - 0s 5ms/step - loss: 0.2330 - accuracy: 0.9290 - val_loss: 0.2848 - val_accuracy: 0.9150\n",
            "Epoch 57/100\n",
            "16/16 [==============================] - 0s 6ms/step - loss: 0.2296 - accuracy: 0.9290 - val_loss: 0.2834 - val_accuracy: 0.9200\n",
            "Epoch 58/100\n",
            "16/16 [==============================] - 0s 7ms/step - loss: 0.2264 - accuracy: 0.9290 - val_loss: 0.2853 - val_accuracy: 0.9250\n",
            "Epoch 59/100\n",
            "16/16 [==============================] - 0s 9ms/step - loss: 0.2232 - accuracy: 0.9280 - val_loss: 0.2814 - val_accuracy: 0.9200\n",
            "Epoch 60/100\n",
            "16/16 [==============================] - 0s 19ms/step - loss: 0.2221 - accuracy: 0.9320 - val_loss: 0.2801 - val_accuracy: 0.9250\n",
            "Epoch 61/100\n",
            "16/16 [==============================] - 0s 26ms/step - loss: 0.2187 - accuracy: 0.9340 - val_loss: 0.2808 - val_accuracy: 0.9250\n",
            "Epoch 62/100\n",
            "16/16 [==============================] - 0s 24ms/step - loss: 0.2150 - accuracy: 0.9330 - val_loss: 0.2811 - val_accuracy: 0.9250\n",
            "Epoch 63/100\n",
            "16/16 [==============================] - 1s 44ms/step - loss: 0.2128 - accuracy: 0.9360 - val_loss: 0.2784 - val_accuracy: 0.9300\n",
            "Epoch 64/100\n",
            "16/16 [==============================] - 1s 36ms/step - loss: 0.2099 - accuracy: 0.9370 - val_loss: 0.2759 - val_accuracy: 0.9200\n",
            "Epoch 65/100\n",
            "16/16 [==============================] - 0s 17ms/step - loss: 0.2086 - accuracy: 0.9370 - val_loss: 0.2809 - val_accuracy: 0.9250\n",
            "Epoch 66/100\n",
            "16/16 [==============================] - 0s 14ms/step - loss: 0.2055 - accuracy: 0.9370 - val_loss: 0.2770 - val_accuracy: 0.9250\n",
            "Epoch 67/100\n",
            "16/16 [==============================] - 0s 14ms/step - loss: 0.2032 - accuracy: 0.9390 - val_loss: 0.2779 - val_accuracy: 0.9250\n",
            "Epoch 68/100\n",
            "16/16 [==============================] - 0s 9ms/step - loss: 0.2013 - accuracy: 0.9390 - val_loss: 0.2771 - val_accuracy: 0.9250\n",
            "Epoch 69/100\n",
            "16/16 [==============================] - 0s 14ms/step - loss: 0.1982 - accuracy: 0.9380 - val_loss: 0.2713 - val_accuracy: 0.9250\n",
            "Epoch 70/100\n",
            "16/16 [==============================] - 0s 11ms/step - loss: 0.1964 - accuracy: 0.9410 - val_loss: 0.2754 - val_accuracy: 0.9250\n",
            "Epoch 71/100\n",
            "16/16 [==============================] - 0s 12ms/step - loss: 0.1947 - accuracy: 0.9390 - val_loss: 0.2730 - val_accuracy: 0.9250\n",
            "Epoch 72/100\n",
            "16/16 [==============================] - 0s 9ms/step - loss: 0.1924 - accuracy: 0.9410 - val_loss: 0.2732 - val_accuracy: 0.9250\n",
            "Epoch 73/100\n",
            "16/16 [==============================] - 0s 10ms/step - loss: 0.1911 - accuracy: 0.9430 - val_loss: 0.2713 - val_accuracy: 0.9250\n",
            "Epoch 74/100\n",
            "16/16 [==============================] - 0s 7ms/step - loss: 0.1861 - accuracy: 0.9480 - val_loss: 0.2738 - val_accuracy: 0.9200\n",
            "Epoch 75/100\n",
            "16/16 [==============================] - 0s 7ms/step - loss: 0.1849 - accuracy: 0.9420 - val_loss: 0.2721 - val_accuracy: 0.9250\n",
            "Epoch 76/100\n",
            "16/16 [==============================] - 0s 5ms/step - loss: 0.1836 - accuracy: 0.9450 - val_loss: 0.2698 - val_accuracy: 0.9250\n",
            "Epoch 77/100\n",
            "16/16 [==============================] - 0s 7ms/step - loss: 0.1814 - accuracy: 0.9470 - val_loss: 0.2780 - val_accuracy: 0.9100\n",
            "Epoch 78/100\n",
            "16/16 [==============================] - 0s 6ms/step - loss: 0.1796 - accuracy: 0.9450 - val_loss: 0.2689 - val_accuracy: 0.9200\n",
            "Epoch 79/100\n",
            "16/16 [==============================] - 0s 5ms/step - loss: 0.1781 - accuracy: 0.9470 - val_loss: 0.2734 - val_accuracy: 0.9150\n",
            "Epoch 80/100\n",
            "16/16 [==============================] - 0s 5ms/step - loss: 0.1762 - accuracy: 0.9480 - val_loss: 0.2707 - val_accuracy: 0.9150\n",
            "Epoch 81/100\n",
            "16/16 [==============================] - 0s 6ms/step - loss: 0.1731 - accuracy: 0.9480 - val_loss: 0.2764 - val_accuracy: 0.9150\n",
            "Epoch 82/100\n",
            "16/16 [==============================] - 0s 5ms/step - loss: 0.1723 - accuracy: 0.9460 - val_loss: 0.2699 - val_accuracy: 0.9200\n",
            "Epoch 83/100\n",
            "16/16 [==============================] - 0s 7ms/step - loss: 0.1709 - accuracy: 0.9500 - val_loss: 0.2690 - val_accuracy: 0.9150\n",
            "Epoch 84/100\n",
            "16/16 [==============================] - 0s 5ms/step - loss: 0.1697 - accuracy: 0.9470 - val_loss: 0.2721 - val_accuracy: 0.9150\n",
            "Epoch 85/100\n",
            "16/16 [==============================] - 0s 5ms/step - loss: 0.1671 - accuracy: 0.9500 - val_loss: 0.2686 - val_accuracy: 0.9150\n",
            "Epoch 86/100\n",
            "16/16 [==============================] - 0s 6ms/step - loss: 0.1650 - accuracy: 0.9500 - val_loss: 0.2749 - val_accuracy: 0.9150\n",
            "Epoch 87/100\n",
            "16/16 [==============================] - 0s 5ms/step - loss: 0.1647 - accuracy: 0.9480 - val_loss: 0.2741 - val_accuracy: 0.9200\n",
            "Epoch 88/100\n",
            "16/16 [==============================] - 0s 8ms/step - loss: 0.1631 - accuracy: 0.9510 - val_loss: 0.2706 - val_accuracy: 0.9200\n",
            "Epoch 89/100\n",
            "16/16 [==============================] - 0s 8ms/step - loss: 0.1614 - accuracy: 0.9480 - val_loss: 0.2737 - val_accuracy: 0.9150\n",
            "Epoch 90/100\n",
            "16/16 [==============================] - 0s 8ms/step - loss: 0.1584 - accuracy: 0.9510 - val_loss: 0.2709 - val_accuracy: 0.9250\n",
            "Epoch 91/100\n",
            "16/16 [==============================] - 0s 8ms/step - loss: 0.1571 - accuracy: 0.9510 - val_loss: 0.2719 - val_accuracy: 0.9200\n",
            "Epoch 92/100\n",
            "16/16 [==============================] - 0s 8ms/step - loss: 0.1562 - accuracy: 0.9550 - val_loss: 0.2702 - val_accuracy: 0.9250\n",
            "Epoch 93/100\n",
            "16/16 [==============================] - 0s 8ms/step - loss: 0.1570 - accuracy: 0.9510 - val_loss: 0.2718 - val_accuracy: 0.9200\n",
            "Epoch 94/100\n",
            "16/16 [==============================] - 0s 7ms/step - loss: 0.1521 - accuracy: 0.9550 - val_loss: 0.2741 - val_accuracy: 0.9250\n",
            "Epoch 95/100\n",
            "16/16 [==============================] - 0s 9ms/step - loss: 0.1517 - accuracy: 0.9550 - val_loss: 0.2758 - val_accuracy: 0.9200\n",
            "Epoch 96/100\n",
            "16/16 [==============================] - 0s 8ms/step - loss: 0.1505 - accuracy: 0.9560 - val_loss: 0.2686 - val_accuracy: 0.9250\n",
            "Epoch 97/100\n",
            "16/16 [==============================] - 0s 8ms/step - loss: 0.1490 - accuracy: 0.9570 - val_loss: 0.2772 - val_accuracy: 0.9200\n",
            "Epoch 98/100\n",
            "16/16 [==============================] - 0s 8ms/step - loss: 0.1473 - accuracy: 0.9560 - val_loss: 0.2719 - val_accuracy: 0.9250\n",
            "Epoch 99/100\n",
            "16/16 [==============================] - 0s 9ms/step - loss: 0.1452 - accuracy: 0.9560 - val_loss: 0.2718 - val_accuracy: 0.9250\n",
            "Epoch 100/100\n",
            "16/16 [==============================] - 0s 9ms/step - loss: 0.1445 - accuracy: 0.9570 - val_loss: 0.2763 - val_accuracy: 0.9200\n"
          ]
        }
      ],
      "source": [
        "MLP_model = model.fit(x_train, y_train,\n",
        "          epochs=100,\n",
        "          batch_size=64, validation_data=(x_test, y_test))"
      ]
    },
    {
      "cell_type": "code",
      "execution_count": 46,
      "metadata": {
        "colab": {
          "base_uri": "https://localhost:8080/",
          "height": 448
        },
        "id": "SveCNiLkisTF",
        "outputId": "5401bbd3-55db-47e1-e8d9-aac6466aafa4"
      },
      "outputs": [
        {
          "output_type": "execute_result",
          "data": {
            "text/plain": [
              "[<matplotlib.lines.Line2D at 0x7f136b79dc60>]"
            ]
          },
          "metadata": {},
          "execution_count": 46
        },
        {
          "output_type": "display_data",
          "data": {
            "text/plain": [
              "<Figure size 640x480 with 1 Axes>"
            ],
            "image/png": "[encoded data removed]"
          },
          "metadata": {}
        }
      ],
      "source": [
        "# plot Loss\n",
        "plt.plot(MLP_model.history[\"loss\"])\n",
        "plt.plot(MLP_model.history[\"val_loss\"])"
      ]
    },
    {
      "cell_type": "code",
      "execution_count": 47,
      "metadata": {
        "colab": {
          "base_uri": "https://localhost:8080/",
          "height": 448
        },
        "id": "Cx3VubunisVh",
        "outputId": "2714b3cd-4157-4315-959b-30b1638c2c82"
      },
      "outputs": [
        {
          "output_type": "execute_result",
          "data": {
            "text/plain": [
              "[<matplotlib.lines.Line2D at 0x7f136b3232b0>]"
            ]
          },
          "metadata": {},
          "execution_count": 47
        },
        {
          "output_type": "display_data",
          "data": {
            "text/plain": [
              "<Figure size 640x480 with 1 Axes>"
            ],
            "image/png": "[encoded data removed]"
          },
          "metadata": {}
        }
      ],
      "source": [
        "# plot accuracy=\n",
        "plt.plot(MLP_model.history[\"accuracy\"])\n",
        "plt.plot(MLP_model.history[\"val_accuracy\"])"
      ]
    }
  ],
  "metadata": {
    "colab": {
      "provenance": []
    },
    "kernelspec": {
      "display_name": "Python 3",
      "name": "python3"
    },
    "language_info": {
      "name": "python"
    }
  },
  "nbformat": 4,
  "nbformat_minor": 0
}